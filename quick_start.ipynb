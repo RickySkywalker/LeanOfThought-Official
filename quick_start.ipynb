{
 "cells": [
  {
   "cell_type": "markdown",
   "metadata": {},
   "source": [
    "# Quick Start\n",
    "This notebook is for quick-setup of the MA-LoT package in current single theorem version\n",
    "\n",
    "### Import Envs"
   ]
  },
  {
   "cell_type": "code",
   "execution_count": 1,
   "metadata": {},
   "outputs": [],
   "source": [
    "import torch\n",
    "import os\n",
    "from LoT_Prover import LoT_Prover\n",
    "from vllm import LLM, SamplingParams\n",
    "from transformers import AutoTokenizer, AutoModelForCausalLM\n",
    "from prover.lean.verifier import Lean4ServerScheduler\n",
    "os.environ[\"CUDA_VISIBLE_DEVICES\"] = \"0\""
   ]
  },
  {
   "cell_type": "code",
   "execution_count": null,
   "metadata": {},
   "outputs": [],
   "source": [
    "model_id = \"RickyDeSkywalker/LoT-Solver\"\n",
    "scheduler = Lean4ServerScheduler(max_concurrent_requests=8, \n",
    "                                 timeout=64, \n",
    "                                 memory_limit=-1, \n",
    "                                 name='verifier')\n",
    "LoT_Prover = LoT_Prover(model_id, scheduler=scheduler)"
   ]
  },
  {
   "cell_type": "markdown",
   "metadata": {},
   "source": [
    "### Init statements"
   ]
  },
  {
   "cell_type": "code",
   "execution_count": 5,
   "metadata": {},
   "outputs": [],
   "source": [
    "Lean_statement = \"theorem imo_1964_p2\\n  (a b c : ℝ)\\n  (h₀ : 0 < a ∧ 0 < b ∧ 0 < c)\\n  (h₁ : c < a + b)\\n  (h₂ : b < a + c)\\n  (h₃ : a < b + c) :\\n  a^2 * (b + c - a) + b^2 * (c + a - b) + c^2 * (a + b - c) ≤ 3 * a * b * c := by\"\n",
    "NL_statement = \"Suppose $a, b, c$ are the sides of a triangle. Prove that \\n\\n$a^2(b+c-a)+b^2(c+a-b)+c^2(a+b-c)\\\\le{3abc}.$\""
   ]
  },
  {
   "cell_type": "markdown",
   "metadata": {},
   "source": [
    "### Perform inference"
   ]
  },
  {
   "cell_type": "code",
   "execution_count": null,
   "metadata": {},
   "outputs": [],
   "source": [
    "eval_results = LoT_Prover.LoT_search_single_thm(\n",
    "    Lean_statement=Lean_statement, \n",
    "    NL_statement=NL_statement, \n",
    "    max_tokens=4096, \n",
    "    LongCoT_control=True, \n",
    "    LongCoT_begin_sign=\"<Thought>\", \n",
    "    LongCoT_stop_sign=\"</Thought>\",\n",
    "    output_begin_sign=\"<Output>\",\n",
    "    return_LongCoT_content=True, \n",
    "    print_result=False\n",
    ")"
   ]
  },
  {
   "cell_type": "code",
   "execution_count": 8,
   "metadata": {},
   "outputs": [
    {
     "data": {
      "text/plain": [
       "{'Name': 'imo_1964_p2',\n",
       " 'Statement': 'theorem imo_1964_p2\\n  (a b c : ℝ)\\n  (h₀ : 0 < a ∧ 0 < b ∧ 0 < c)\\n  (h₁ : c < a + b)\\n  (h₂ : b < a + c)\\n  (h₃ : a < b + c) :\\n  a^2 * (b + c - a) + b^2 * (c + a - b) + c^2 * (a + b - c) ≤ 3 * a * b * c := by',\n",
       " 'Proof': 'import Mathlib\\nimport Aesop\\n\\nset_option maxHeartbeats 0\\n\\nopen BigOperators Real Nat Topology Rat\\n\\n\\n/--Suppose $a, b, c$ are the sides of a triangle. Prove that \\n\\n$a^2(b+c-a)+b^2(c+a-b)+c^2(a+b-c)\\\\le{3abc}.$-/\\ntheorem imo_1964_p2\\n  (a b c : ℝ)\\n  (h₀ : 0 < a ∧ 0 < b ∧ 0 < c)\\n  (h₁ : c < a + b)\\n  (h₂ : b < a + c)\\n  (h₃ : a < b + c) :\\n  a^2 * (b + c - a) + b^2 * (c + a - b) + c^2 * (a + b - c) ≤ 3 * a * b * c := by\\n\\n  /-\\n  To prove the inequality \\\\( a^2(b+c-a) + b^2(c+a-b) + c^2(a+b-c) \\\\leq 3abc \\\\) for the sides \\\\( a, b, c \\\\) of a triangle, we can use non-linear arithmetic (`nlinarith`). This tactic will handle the algebraic manipulation and comparison of the expressions involved.\\n  -/\\n  -- Use non-linear arithmetic to handle the inequality involving squares and sums.\\n  nlinarith [sq_nonneg (a - b), sq_nonneg (b - c), sq_nonneg (c - a),\\n    mul_pos h₀.1 h₀.2.1, mul_pos h₀.2.1 h₀.2.2, mul_pos h₀.1 h₀.2.2]',\n",
       " 'LongCoT': '\\nAlright, I should do the following:\\n\\n  1. Provide the natural language analysis for the theorem based on the Natural language theorem statement.\\n\\n  2. Draft the Lean4 tactics I should use to solve the problem\\n\\n  3. Write the output Lean4 code.\\n\\nThe user also asks that I should avoid using the keyword `sorry` to give up the proof, so I will not write it in my Lean4 code.\\n\\nThe `imo_1964_p2` can be proofed by using non-linear arithmetic (`nlinarith`) which can handle inequalities involving squares and sums.\\n\\n'}"
      ]
     },
     "execution_count": 8,
     "metadata": {},
     "output_type": "execute_result"
    }
   ],
   "source": [
    "eval_results"
   ]
  },
  {
   "cell_type": "code",
   "execution_count": null,
   "metadata": {},
   "outputs": [],
   "source": []
  }
 ],
 "metadata": {
  "kernelspec": {
   "display_name": "LoT_env",
   "language": "python",
   "name": "python3"
  },
  "language_info": {
   "codemirror_mode": {
    "name": "ipython",
    "version": 3
   },
   "file_extension": ".py",
   "mimetype": "text/x-python",
   "name": "python",
   "nbconvert_exporter": "python",
   "pygments_lexer": "ipython3",
   "version": "3.10.16"
  }
 },
 "nbformat": 4,
 "nbformat_minor": 2
}
